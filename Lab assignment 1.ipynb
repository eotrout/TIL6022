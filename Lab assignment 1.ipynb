{
 "cells": [
  {
   "cell_type": "markdown",
   "metadata": {},
   "source": [
    "\n",
    "[<img src=\"https://raw.githubusercontent.com/mbakker7/exploratory_computing_with_python/master/tudelft_logo.png\" width=\"200\" align='right'>](https://www.tudelft.nl/citg/over-faculteit/afdelingen/geoscience-remote-sensing/staff/scientific-staff/dr-stef-lhermitte)\n",
    "\n",
    "\n",
    "# Python Environment Assignment \n",
    "*Created by Panchamy Krishnakumari (p.k.krishnakumari at tudelft.nl)*\n",
    "\n",
    "In this course you will use several libraries that you need to install and are listed below. The setup for installing these packages in your local computer conda distribution is included in brightspace as well as below. \n",
    "\n",
    "*In case of technical installation problems, the cloud-based Google Colab online jupyter notebooks is an alternative. But, we highly recommend setting up your own local environment and working with visual studio code as this makes collaboration easier.*"
   ]
  },
  {
   "cell_type": "markdown",
   "metadata": {},
   "source": [
    "# Introduction"
   ]
  },
  {
   "cell_type": "markdown",
   "metadata": {},
   "source": [
    "## Required packages for the courses"
   ]
  },
  {
   "cell_type": "markdown",
   "metadata": {},
   "source": [
    "The packages used in this course are:\n",
    "\n",
    "- [copy](https://docs.python.org/3/library/copy.html): a Python package to make shallow and deep copy of Python objects.\n",
    "- [random](https://docs.python.org/3/library/random.html): a Python package for random number generation\n",
    "- [datetime](https://docs.python.org/3/library/datetime.html): a Python package to manipulate dates and times\n",
    "- [math](https://docs.python.org/3/library/math.html): a Python package for mathematical functions\n",
    "\n",
    "- [numpy](https://numpy.org): a Python package for scientific computing\n",
    "- [json](https://docs.python.org/3/library/json.html): a Python package to encode and decode JSON format\n",
    "- [pandas](https://pandas.pydata.org): a Python package for data analysis and manipulation\n",
    "- [geopandas](https://geopandas.org/en/stable/): a Python package to make working with geospatial data in python easier. GeoPandas extends the datatypes used by pandas to allow spatial operations on geometric types.\n",
    "\n",
    "- [matplotlib](https://matplotlib.org): a Python package for creating static, animated and interactive visualisations\n",
    "- [seaborn](https://seaborn.pydata.org): a Python package for statistical data visualisation\n",
    "- [plotly.express](https://plotly.com/python/plotly-express/): a Python package for interactive charts and maps. Plotly Express is a built-in part of the plotly library.\n",
    "- [folium](http://python-visualization.github.io/folium/): a Python package for visualising and maniplating geospatial data.\n",
    "\n",
    "- [scipy](https://scipy.org): a Python package for fundamental algorithms for scientific computing\n",
    "- [scikit-learn](https://scikit-learn.org/stable/): a Python package for general machine learning algorithms and predictive data analysis"
   ]
  },
  {
   "cell_type": "markdown",
   "metadata": {},
   "source": [
    "## Setting up your own python environment"
   ]
  },
  {
   "cell_type": "markdown",
   "metadata": {},
   "source": [
    "To install the packages on your local computer, follow the instructions below:\n",
    "\n",
    "- For windows, first launch your conda prompt. If you don't know how to launch the conda prompt in Windows check [here](https://docs.anaconda.com/anaconda/install/verify-install/#conda). Once the conda prompt is launched, you should run the following commands in this prompt:\n",
    "\n",
    "- For Mac/Linux you should open your terminal and the you can directly run the following commands in the terminal:\n",
    "\n",
    "`conda create --name TIL6022`\n",
    "\n",
    "This line is to create a new conda environment with name TIL6022. Subsequently, you need to active that newly created environment:\n",
    "\n",
    "`conda activate TIL6022`\n",
    "\n",
    "Within this newly created environment, you can first install necessary libraries:\n",
    "\n",
    "`conda install --force-reinstall -y -q --name TIL6022 -c conda-forge --file requirements.txt`\n",
    "\n",
    "Once you succeeded in installing these packages, you can run the notebook in TIL6022 environment. In VS code, the environment will appear automatically and you can switch your workarea to that specific environment.\n",
    "\n",
    "Once this is done, these packages can be imported as normal packages and you should be able to run the code in the rest of this notebook without major errors. If this is the case you are fine to start the course.\n"
   ]
  },
  {
   "cell_type": "markdown",
   "metadata": {},
   "source": [
    "## The Zen of Python"
   ]
  },
  {
   "cell_type": "code",
   "execution_count": 1,
   "metadata": {},
   "outputs": [
    {
     "name": "stdout",
     "output_type": "stream",
     "text": [
      "The Zen of Python, by Tim Peters\n",
      "\n",
      "Beautiful is better than ugly.\n",
      "Explicit is better than implicit.\n",
      "Simple is better than complex.\n",
      "Complex is better than complicated.\n",
      "Flat is better than nested.\n",
      "Sparse is better than dense.\n",
      "Readability counts.\n",
      "Special cases aren't special enough to break the rules.\n",
      "Although practicality beats purity.\n",
      "Errors should never pass silently.\n",
      "Unless explicitly silenced.\n",
      "In the face of ambiguity, refuse the temptation to guess.\n",
      "There should be one-- and preferably only one --obvious way to do it.\n",
      "Although that way may not be obvious at first unless you're Dutch.\n",
      "Now is better than never.\n",
      "Although never is often better than *right* now.\n",
      "If the implementation is hard to explain, it's a bad idea.\n",
      "If the implementation is easy to explain, it may be a good idea.\n",
      "Namespaces are one honking great idea -- let's do more of those!\n"
     ]
    }
   ],
   "source": [
    "import this"
   ]
  },
  {
   "cell_type": "markdown",
   "metadata": {},
   "source": [
    "# Part I - Verifying the installation"
   ]
  },
  {
   "cell_type": "code",
   "execution_count": 4,
   "metadata": {},
   "outputs": [
    {
     "name": "stdout",
     "output_type": "stream",
     "text": [
      "All libraries are installed correctly\n"
     ]
    }
   ],
   "source": [
    "\n",
    "import copy\n",
    "import random\n",
    "import datetime\n",
    "import math\n",
    "#import numpy\n",
    "import json\n",
    "#import pandas\n",
    "#import geopandas\n",
    "#import matplotlib.pyplot as plt\n",
    "#import seaborn\n",
    "#import plotly.express\n",
    "#import folium #folium needs conda-forge\n",
    "#import scipy\n",
    "#import \"scikit-learn\"\n",
    "\n",
    "print('All libraries are installed correctly')"
   ]
  },
  {
   "cell_type": "markdown",
   "metadata": {},
   "source": [
    "# Part II - Markdown Assignments\n",
    "\n",
    "Look at *Expected output.pdf* to see what needs to be created. You can find helpers for markdown [here](https://docs.github.com/en/get-started/writing-on-github/getting-started-with-writing-and-formatting-on-github/basic-writing-and-formatting-syntax)"
   ]
  },
  {
   "cell_type": "markdown",
   "metadata": {},
   "source": [
    "## Q1: Create a nested list"
   ]
  },
  {
   "cell_type": "markdown",
   "metadata": {},
   "source": [
    "### Answer 1"
   ]
  },
  {
   "cell_type": "code",
   "execution_count": 3,
   "metadata": {},
   "outputs": [
    {
     "name": "stdout",
     "output_type": "stream",
     "text": [
      "1. Part II - Markdown Assignments ['Q1: Create a nested list', ['Answer 1'], 'Q2: Quoting code', ['Answer 2'], 'Q3: Add the sample figure', ['Answer 3']]\n"
     ]
    }
   ],
   "source": [
    "titleL = \"1. Part II - Markdown Assignments\"\n",
    "\n",
    "title = ['Q1: Create a nested list', ['Answer 1'], 'Q2: Quoting code', ['Answer 2'], 'Q3: Add the sample figure', ['Answer 3']]\n",
    "    \n",
    "    \n",
    "print(titleL, title)"
   ]
  },
  {
   "cell_type": "markdown",
   "metadata": {},
   "source": [
    "## Q2: Quoting code"
   ]
  },
  {
   "cell_type": "markdown",
   "metadata": {},
   "source": [
    "### Answer 2\n"
   ]
  },
  {
   "cell_type": "code",
   "execution_count": 4,
   "metadata": {},
   "outputs": [
    {
     "name": "stdout",
     "output_type": "stream",
     "text": [
      "10.0\n"
     ]
    }
   ],
   "source": [
    "from math import sqrt\n",
    "\n",
    "\n",
    "print(sqrt(100))"
   ]
  },
  {
   "cell_type": "markdown",
   "metadata": {},
   "source": [
    "## Q3: Add the sample picture"
   ]
  },
  {
   "cell_type": "markdown",
   "metadata": {},
   "source": [
    "### Answer 3\n",
    "\n",
    "\n"
   ]
  },
  {
   "cell_type": "code",
   "execution_count": 12,
   "metadata": {},
   "outputs": [
    {
     "data": {
      "text/html": [
       "<img src=\"https://www.google.com/imgres?imgurl=https%3A%2F%2Fi.pinimg.com%2F736x%2F33%2F70%2F29%2F33702949116bc77168dd93bdecc9f955.jpg&imgrefurl=https%3A%2F%2Fwww.pinterest.com%2Fpin%2F511158626462118566%2F&tbnid=BR0rhy2-CdcL8M&vet=12ahUKEwjkx9_Iv4P6AhX1yrsIHXFsAAQQMygBegUIARDkAQ..i&docid=lzPDrrV_hJVkdM&w=736&h=645&q=funny%20cat%20png&ved=2ahUKEwjkx9_Iv4P6AhX1yrsIHXFsAAQQMygBegUIARDkAQ\"/>"
      ],
      "text/plain": [
       "<IPython.core.display.Image object>"
      ]
     },
     "execution_count": 12,
     "metadata": {},
     "output_type": "execute_result"
    }
   ],
   "source": [
    "from IPython.display import Image\n",
    "img = 'https://www.google.com/imgres?imgurl=https%3A%2F%2Fi.pinimg.com%2F736x%2F33%2F70%2F29%2F33702949116bc77168dd93bdecc9f955.jpg&imgrefurl=https%3A%2F%2Fwww.pinterest.com%2Fpin%2F511158626462118566%2F&tbnid=BR0rhy2-CdcL8M&vet=12ahUKEwjkx9_Iv4P6AhX1yrsIHXFsAAQQMygBegUIARDkAQ..i&docid=lzPDrrV_hJVkdM&w=736&h=645&q=funny%20cat%20png&ved=2ahUKEwjkx9_Iv4P6AhX1yrsIHXFsAAQQMygBegUIARDkAQ'\n",
    "Image(url=img)\n"
   ]
  },
  {
   "cell_type": "code",
   "execution_count": 10,
   "metadata": {},
   "outputs": [
    {
     "ename": "AttributeError",
     "evalue": "type object 'Image' has no attribute 'open'",
     "output_type": "error",
     "traceback": [
      "\u001b[0;31m---------------------------------------------------------------------------\u001b[0m",
      "\u001b[0;31mAttributeError\u001b[0m                            Traceback (most recent call last)",
      "Cell \u001b[0;32mIn [10], line 2\u001b[0m\n\u001b[1;32m      1\u001b[0m \u001b[38;5;28;01mfrom\u001b[39;00m \u001b[38;5;21;01mIPython\u001b[39;00m\u001b[38;5;21;01m.\u001b[39;00m\u001b[38;5;21;01mdisplay\u001b[39;00m \u001b[38;5;28;01mimport\u001b[39;00m Image\n\u001b[0;32m----> 2\u001b[0m myImage \u001b[38;5;241m=\u001b[39m \u001b[43mImage\u001b[49m\u001b[38;5;241;43m.\u001b[39;49m\u001b[43mopen\u001b[49m(\u001b[38;5;124m\"\u001b[39m\u001b[38;5;124m/Users/iantrout/Documents/Masters programs/TU Delft--Msc in Transport, Infrastructure, and Logistics/Q1_2022/Python Programming/sample_picture.jpg\u001b[39m\u001b[38;5;124m\"\u001b[39m);\n\u001b[1;32m      3\u001b[0m myImage\u001b[38;5;241m.\u001b[39mshow()\n",
      "\u001b[0;31mAttributeError\u001b[0m: type object 'Image' has no attribute 'open'"
     ]
    }
   ],
   "source": [
    "from IPython.display import Image\n",
    "myImage = Image.open(\"/Users/iantrout/Documents/Masters programs/TU Delft--Msc in Transport, Infrastructure, and Logistics/Q1_2022/Python Programming/sample_picture.jpg\");\n",
    "myImage.show();"
   ]
  },
  {
   "cell_type": "code",
   "execution_count": 6,
   "metadata": {},
   "outputs": [
    {
     "name": "stdout",
     "output_type": "stream",
     "text": [
      "https://www.google.com/imgres?imgurl=https%3A%2F%2Fi.pinimg.com%2F736x%2F33%2F70%2F29%2F33702949116bc77168dd93bdecc9f955.jpg&imgrefurl=https%3A%2F%2Fwww.pinterest.com%2Fpin%2F511158626462118566%2F&tbnid=BR0rhy2-CdcL8M&vet=12ahUKEwjkx9_Iv4P6AhX1yrsIHXFsAAQQMygBegUIARDkAQ..i&docid=lzPDrrV_hJVkdM&w=736&h=645&q=funny%20cat%20png&ved=2ahUKEwjkx9_Iv4P6AhX1yrsIHXFsAAQQMygBegUIARDkAQ\n",
      "Time for some sun!\n"
     ]
    }
   ],
   "source": [
    "\n",
    "print(img)\n",
    "print(\"Time for some sun!\")"
   ]
  },
  {
   "cell_type": "markdown",
   "metadata": {},
   "source": [
    "## BONUS: Add a task list\n"
   ]
  },
  {
   "cell_type": "code",
   "execution_count": 17,
   "metadata": {},
   "outputs": [
    {
     "name": "stderr",
     "output_type": "stream",
     "text": [
      "<>:1: SyntaxWarning: list indices must be integers or slices, not tuple; perhaps you missed a comma?\n",
      "<>:1: SyntaxWarning: list indices must be integers or slices, not tuple; perhaps you missed a comma?\n",
      "/var/folders/l4/pcg7hmbx5l16p94wstmvj0mh0000gn/T/ipykernel_58655/4212399793.py:1: SyntaxWarning: list indices must be integers or slices, not tuple; perhaps you missed a comma?\n",
      "  - [x] ['Completed Q1','Completed Q2', 'Completed Q3', 'BONUS Question' ]\n",
      "/var/folders/l4/pcg7hmbx5l16p94wstmvj0mh0000gn/T/ipykernel_58655/4212399793.py:1: SyntaxWarning: list indices must be integers or slices, not tuple; perhaps you missed a comma?\n",
      "  - [x] ['Completed Q1','Completed Q2', 'Completed Q3', 'BONUS Question' ]\n",
      "/var/folders/l4/pcg7hmbx5l16p94wstmvj0mh0000gn/T/ipykernel_58655/4212399793.py:1: SyntaxWarning: list indices must be integers or slices, not tuple; perhaps you missed a comma?\n",
      "  - [x] ['Completed Q1','Completed Q2', 'Completed Q3', 'BONUS Question' ]\n"
     ]
    },
    {
     "ename": "NameError",
     "evalue": "name 'x' is not defined",
     "output_type": "error",
     "traceback": [
      "\u001b[0;31m---------------------------------------------------------------------------\u001b[0m",
      "\u001b[0;31mNameError\u001b[0m                                 Traceback (most recent call last)",
      "Cell \u001b[0;32mIn [17], line 1\u001b[0m\n\u001b[0;32m----> 1\u001b[0m \u001b[38;5;241m-\u001b[39m [\u001b[43mx\u001b[49m] [\u001b[38;5;124m'\u001b[39m\u001b[38;5;124mCompleted Q1\u001b[39m\u001b[38;5;124m'\u001b[39m,\u001b[38;5;124m'\u001b[39m\u001b[38;5;124mCompleted Q2\u001b[39m\u001b[38;5;124m'\u001b[39m, \u001b[38;5;124m'\u001b[39m\u001b[38;5;124mCompleted Q3\u001b[39m\u001b[38;5;124m'\u001b[39m, \u001b[38;5;124m'\u001b[39m\u001b[38;5;124mBONUS Question\u001b[39m\u001b[38;5;124m'\u001b[39m ]\n",
      "\u001b[0;31mNameError\u001b[0m: name 'x' is not defined"
     ]
    }
   ],
   "source": [
    "- [x] ['Completed Q1','Completed Q2', 'Completed Q3', 'BONUS Question' ]\n"
   ]
  },
  {
   "cell_type": "markdown",
   "metadata": {},
   "source": [
    "# Submission\n",
    "If all cells work without problems, you are ready to start the notebook sessions in the quarter. \n",
    "\n",
    "Run all the cells and download the notebook as a pdf and submit this pdf in the assignment "
   ]
  }
 ],
 "metadata": {
  "kernelspec": {
   "display_name": "Python 3.9.12 ('base')",
   "language": "python",
   "name": "python3"
  },
  "language_info": {
   "codemirror_mode": {
    "name": "ipython",
    "version": 3
   },
   "file_extension": ".py",
   "mimetype": "text/x-python",
   "name": "python",
   "nbconvert_exporter": "python",
   "pygments_lexer": "ipython3",
   "version": "3.9.12"
  },
  "vscode": {
   "interpreter": {
    "hash": "aed8986216366471f9159fd765c1d4b26d35a3155142830f0bcab2c489121c64"
   }
  }
 },
 "nbformat": 4,
 "nbformat_minor": 2
}
